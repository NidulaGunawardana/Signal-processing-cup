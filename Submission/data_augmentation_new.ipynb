{
 "cells": [
  {
   "cell_type": "code",
   "execution_count": 3,
   "metadata": {},
   "outputs": [],
   "source": [
    "import numpy as np\n",
    "import librosa\n",
    "import soundfile as sf\n",
    "import matplotlib.pyplot as plt\n",
    "from IPython.display import Audio\n",
    "import random\n",
    "\n",
    "from pydub import AudioSegment\n",
    "import noisereduce as nr"
   ]
  },
  {
   "cell_type": "markdown",
   "metadata": {},
   "source": [
    "Add Gaussian Noise"
   ]
  },
  {
   "cell_type": "code",
   "execution_count": 4,
   "metadata": {},
   "outputs": [],
   "source": [
    "def add_white_noise(signal,noise_factor):   # use a random noise factor\n",
    "    noise = np.random.normal(0,signal.std(),signal.size)\n",
    "    augmented_signal = signal + noise*noise_factor\n",
    "    return augmented_signal"
   ]
  },
  {
   "cell_type": "markdown",
   "metadata": {},
   "source": [
    "Time Stretching"
   ]
  },
  {
   "cell_type": "code",
   "execution_count": 5,
   "metadata": {},
   "outputs": [],
   "source": [
    "def time_stretch(signal, stretch_rate):\n",
    "    return librosa.effects.time_stretch(signal, rate = stretch_rate) #use stretch rate 0.8 to 1.2"
   ]
  },
  {
   "cell_type": "markdown",
   "metadata": {},
   "source": [
    "Pitch Scalling "
   ]
  },
  {
   "cell_type": "code",
   "execution_count": 6,
   "metadata": {},
   "outputs": [],
   "source": [
    "def pitch_scale(signal,sr, num_semitones):\n",
    "    return librosa.effects.pitch_shift(signal,sr =sr,n_steps= num_semitones) #use 4 to 5 semitones"
   ]
  },
  {
   "cell_type": "markdown",
   "metadata": {},
   "source": [
    "Random Gain"
   ]
  },
  {
   "cell_type": "code",
   "execution_count": 7,
   "metadata": {},
   "outputs": [],
   "source": [
    "def random_gain(signal,min_gain_factor,max_gain_factor):\n",
    "    gain_factor = random.uniform(min_gain_factor,max_gain_factor)\n",
    "    return signal*gain_factor"
   ]
  },
  {
   "cell_type": "markdown",
   "metadata": {},
   "source": [
    "Denoise"
   ]
  },
  {
   "cell_type": "code",
   "execution_count": 8,
   "metadata": {},
   "outputs": [],
   "source": [
    "def denoise(audio_input_path,audio_output_path):\n",
    "    # Load audio file\n",
    "    audio = AudioSegment.from_file(audio_input_path)\n",
    "\n",
    "    # Convert audio to numpy array\n",
    "    samples = np.array(audio.get_array_of_samples())\n",
    "\n",
    "    # Reduce noise\n",
    "    reduced_noise = nr.reduce_noise(samples, sr=audio.frame_rate)\n",
    "\n",
    "    # Convert reduced noise signal back to audio\n",
    "    reduced_audio = AudioSegment(\n",
    "        reduced_noise.tobytes(), \n",
    "        frame_rate=audio.frame_rate, \n",
    "        sample_width=audio.sample_width, \n",
    "        channels=audio.channels\n",
    "    )\n",
    "    # Save reduced audio to file\n",
    "    reduced_audio.export(audio_output_path+\"_denoised.wav\", format=\"wav\")\n",
    "    return "
   ]
  },
  {
   "cell_type": "markdown",
   "metadata": {},
   "source": [
    "By using Enrollment files , makes a new enrollment files by data augmentation"
   ]
  },
  {
   "cell_type": "code",
   "execution_count": 10,
   "metadata": {},
   "outputs": [],
   "source": [
    "import os\n",
    "from pathlib import Path\n",
    "\n",
    "for i in os.listdir(\"C:/Users/nidul/Desktop/ACCA Folder My/Signal processing cup/ROBOVOX_SP_CUP_2024/single-channel/enrollment\"):\n",
    "    input_dir = os.path.join(\"C:/Users/nidul/Desktop/ACCA Folder My/Signal processing cup/ROBOVOX_SP_CUP_2024/single-channel/enrollment\",i)  # give the location of the enrolment files here\n",
    "    output_dir = os.path.join(\"C:/Users/nidul/Desktop/ACCA Folder My/Signal processing cup/ROBOVOX_SP_CUP_2024/single-channel/enrollment_augmented\",i)   #give the loaction to create enrolment_augmented\n",
    "    os.mkdir(output_dir)  \n",
    "    files = [str(x) for x in list(Path(input_dir).glob(\"*.wav*\"))]\n",
    "    for file in files:\n",
    "        signal,sr = librosa.load(file)\n",
    "\n",
    "        augmented_white_noise_signal_1 = add_white_noise(signal,0.2)\n",
    "        augmented_white_noise_signal_2 = add_white_noise(signal,0.3) \n",
    "        augmented_time_scalling_signal_1 = time_stretch(signal,1.2)\n",
    "        augmented_time_scalling_signal_2 = time_stretch(signal,0.9)\n",
    "        augmented_pitch_scalling_signal = pitch_scale(signal,sr,0.2) \n",
    "        augmented_random_gain_signal_1 = random_gain(signal,3,6)\n",
    "        augmented_random_gain_signal_2 = random_gain(signal,4,8)\n",
    "\n",
    "\n",
    "        base_name = os.path.basename(file)\n",
    "        file_name, file_extension = os.path.splitext(base_name)\n",
    "\n",
    "        sub_output_dir = os.path.join(\"C:/Users/nidul/Desktop/ACCA Folder My/Signal processing cup/ROBOVOX_SP_CUP_2024/single-channel/enrollment_augmented\",i,file_name) \n",
    "\n",
    "        sf.write(sub_output_dir+\".wav\",signal,sr)\n",
    "        # denoise(file,sub_output_dir)\n",
    "        sf.write(sub_output_dir+\"_with_white_noise_1.wav\",augmented_white_noise_signal_1,sr)\n",
    "        sf.write(sub_output_dir+\"_with_white_noise_2.wav\",augmented_white_noise_signal_2,sr)\n",
    "        sf.write(sub_output_dir+\"_with_time_scalling_1.wav\",augmented_time_scalling_signal_1,sr)\n",
    "        sf.write(sub_output_dir+\"_with_time_scalling_2.wav\",augmented_time_scalling_signal_2,sr)\n",
    "        sf.write(sub_output_dir+\"_with_pitch_scalling.wav\",augmented_pitch_scalling_signal,sr)\n",
    "        sf.write(sub_output_dir+\"_with_random_gain_1.wav\",augmented_random_gain_signal_1,sr)\n",
    "        sf.write(sub_output_dir+\"_with_random_gain_2.wav\",augmented_random_gain_signal_2,sr)"
   ]
  }
 ],
 "metadata": {
  "kernelspec": {
   "display_name": "Python 3",
   "language": "python",
   "name": "python3"
  },
  "language_info": {
   "codemirror_mode": {
    "name": "ipython",
    "version": 3
   },
   "file_extension": ".py",
   "mimetype": "text/x-python",
   "name": "python",
   "nbconvert_exporter": "python",
   "pygments_lexer": "ipython3",
   "version": "3.9.18"
  }
 },
 "nbformat": 4,
 "nbformat_minor": 2
}
